{
 "cells": [
  {
   "cell_type": "code",
   "execution_count": 2,
   "metadata": {},
   "outputs": [],
   "source": [
    "import pandas as pd\n",
    "import numpy as np\n",
    "import matplotlib.pyplot as plt\n",
    "import datetime\n",
    "from datetime import timezone\n",
    "from bs4 import BeautifulSoup\n",
    "import io\n",
    "import requests"
   ]
  },
  {
   "cell_type": "code",
   "execution_count": 3,
   "metadata": {},
   "outputs": [],
   "source": [
    "TeamList = [\"ARI\", \"ATL\", \"BAL\", \"BOS\", \"CHC\", \"CHW\", \"CIN\", \"CLE\", \"COL\", \"DET\", \"HOU\", \"KCR\", \"LAA\", \"LAD\", \"MIA\", \"MIL\", \"MIN\", \"NYM\", \"NYY\", \"OAK\", \"PHI\", \"PIT\", \"SDP\", \"SFG\", \"SEA\", \"STL\", \"TBR\", \"TEX\", \"TOR\", \"WSN\"]\n",
    "\n",
    "url = f\"https://www.baseball-reference.com/teams/{TeamList}/2024-roster.shtml\"\n",
    "response = requests.get(url)"
   ]
  }
 ],
 "metadata": {
  "kernelspec": {
   "display_name": "Python 3",
   "language": "python",
   "name": "python3"
  },
  "language_info": {
   "codemirror_mode": {
    "name": "ipython",
    "version": 3
   },
   "file_extension": ".py",
   "mimetype": "text/x-python",
   "name": "python",
   "nbconvert_exporter": "python",
   "pygments_lexer": "ipython3",
   "version": "3.11.5"
  }
 },
 "nbformat": 4,
 "nbformat_minor": 2
}
