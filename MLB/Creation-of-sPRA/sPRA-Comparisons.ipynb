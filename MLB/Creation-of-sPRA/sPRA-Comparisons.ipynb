{
 "cells": [
  {
   "cell_type": "code",
   "execution_count": 1,
   "metadata": {},
   "outputs": [],
   "source": [
    "from pybaseball import statcast\n",
    "from pybaseball import pitching_stats_bref\n",
    "import pandas as pd\n",
    "import numpy as np\n",
    "import matplotlib.pyplot as plt\n",
    "from sklearn.linear_model import LinearRegression"
   ]
  },
  {
   "cell_type": "markdown",
   "metadata": {},
   "source": [
    "### Loads in all of the Statcast data from the years 2016, 2017, 2018, 2021, 2022"
   ]
  },
  {
   "cell_type": "code",
   "execution_count": 2,
   "metadata": {},
   "outputs": [
    {
     "name": "stdout",
     "output_type": "stream",
     "text": [
      "This is a large query, it may take a moment to complete\n",
      "Skipping offseason dates\n",
      "Skipping offseason dates\n"
     ]
    },
    {
     "name": "stderr",
     "output_type": "stream",
     "text": [
      "100%|██████████| 214/214 [00:55<00:00,  3.89it/s]\n"
     ]
    }
   ],
   "source": [
    "savant_df2016 = statcast(start_dt = \"2016-03-28\", end_dt = \"2016-11-15\")"
   ]
  },
  {
   "cell_type": "code",
   "execution_count": 3,
   "metadata": {},
   "outputs": [
    {
     "name": "stdout",
     "output_type": "stream",
     "text": [
      "This is a large query, it may take a moment to complete\n",
      "Skipping offseason dates\n",
      "Skipping offseason dates\n"
     ]
    },
    {
     "name": "stderr",
     "output_type": "stream",
     "text": [
      "100%|██████████| 214/214 [00:56<00:00,  3.77it/s]\n"
     ]
    }
   ],
   "source": [
    "savant_df2017 = statcast(start_dt = \"2017-03-28\", end_dt = \"2017-11-15\")"
   ]
  },
  {
   "cell_type": "code",
   "execution_count": 4,
   "metadata": {},
   "outputs": [
    {
     "name": "stdout",
     "output_type": "stream",
     "text": [
      "This is a large query, it may take a moment to complete\n",
      "Skipping offseason dates\n",
      "Skipping offseason dates\n"
     ]
    },
    {
     "name": "stderr",
     "output_type": "stream",
     "text": [
      "100%|██████████| 214/214 [00:54<00:00,  3.90it/s]\n"
     ]
    }
   ],
   "source": [
    "savant_df2018 = statcast(start_dt = \"2018-03-28\", end_dt = \"2018-11-15\")"
   ]
  },
  {
   "cell_type": "code",
   "execution_count": 5,
   "metadata": {},
   "outputs": [
    {
     "name": "stdout",
     "output_type": "stream",
     "text": [
      "This is a large query, it may take a moment to complete\n"
     ]
    },
    {
     "name": "stderr",
     "output_type": "stream",
     "text": [
      "100%|██████████| 233/233 [02:45<00:00,  1.40it/s]\n"
     ]
    }
   ],
   "source": [
    "savant_df2021 = statcast(start_dt = \"2021-03-28\", end_dt = \"2021-11-15\")"
   ]
  },
  {
   "cell_type": "code",
   "execution_count": 6,
   "metadata": {},
   "outputs": [
    {
     "name": "stdout",
     "output_type": "stream",
     "text": [
      "This is a large query, it may take a moment to complete\n"
     ]
    },
    {
     "name": "stderr",
     "output_type": "stream",
     "text": [
      "100%|██████████| 233/233 [02:47<00:00,  1.39it/s]\n"
     ]
    }
   ],
   "source": [
    "savant_df2022 = statcast(start_dt = \"2022-03-28\", end_dt = \"2022-11-15\")"
   ]
  },
  {
   "cell_type": "markdown",
   "metadata": {},
   "source": [
    "### Concatenates the Statcast data together to make one giant dataset"
   ]
  },
  {
   "cell_type": "code",
   "execution_count": 7,
   "metadata": {},
   "outputs": [],
   "source": [
    "expected = pd.concat([savant_df2016, savant_df2017, savant_df2018, savant_df2021, savant_df2022], axis = 0)"
   ]
  },
  {
   "cell_type": "markdown",
   "metadata": {},
   "source": [
    "### Groups by the events/batted ball types and the expected run value of each occurence"
   ]
  },
  {
   "cell_type": "code",
   "execution_count": 8,
   "metadata": {},
   "outputs": [
    {
     "data": {
      "text/html": [
       "<div>\n",
       "<style scoped>\n",
       "    .dataframe tbody tr th:only-of-type {\n",
       "        vertical-align: middle;\n",
       "    }\n",
       "\n",
       "    .dataframe tbody tr th {\n",
       "        vertical-align: top;\n",
       "    }\n",
       "\n",
       "    .dataframe thead th {\n",
       "        text-align: right;\n",
       "    }\n",
       "</style>\n",
       "<table border=\"1\" class=\"dataframe\">\n",
       "  <thead>\n",
       "    <tr style=\"text-align: right;\">\n",
       "      <th></th>\n",
       "      <th>Run_Value</th>\n",
       "    </tr>\n",
       "    <tr>\n",
       "      <th>events</th>\n",
       "      <th></th>\n",
       "    </tr>\n",
       "  </thead>\n",
       "  <tbody>\n",
       "    <tr>\n",
       "      <th>catcher_interf</th>\n",
       "      <td>0.382442</td>\n",
       "    </tr>\n",
       "    <tr>\n",
       "      <th>caught_stealing_2b</th>\n",
       "      <td>-0.209388</td>\n",
       "    </tr>\n",
       "    <tr>\n",
       "      <th>caught_stealing_3b</th>\n",
       "      <td>-0.335937</td>\n",
       "    </tr>\n",
       "    <tr>\n",
       "      <th>caught_stealing_home</th>\n",
       "      <td>-0.290938</td>\n",
       "    </tr>\n",
       "    <tr>\n",
       "      <th>double</th>\n",
       "      <td>0.764403</td>\n",
       "    </tr>\n",
       "    <tr>\n",
       "      <th>double_play</th>\n",
       "      <td>-0.359216</td>\n",
       "    </tr>\n",
       "    <tr>\n",
       "      <th>ejection</th>\n",
       "      <td>-0.1965</td>\n",
       "    </tr>\n",
       "    <tr>\n",
       "      <th>field_error</th>\n",
       "      <td>0.448989</td>\n",
       "    </tr>\n",
       "    <tr>\n",
       "      <th>field_out</th>\n",
       "      <td>-0.235644</td>\n",
       "    </tr>\n",
       "    <tr>\n",
       "      <th>fielders_choice</th>\n",
       "      <td>0.686367</td>\n",
       "    </tr>\n",
       "    <tr>\n",
       "      <th>fielders_choice_out</th>\n",
       "      <td>-0.310614</td>\n",
       "    </tr>\n",
       "    <tr>\n",
       "      <th>force_out</th>\n",
       "      <td>-0.428108</td>\n",
       "    </tr>\n",
       "    <tr>\n",
       "      <th>game_advisory</th>\n",
       "      <td>-0.214714</td>\n",
       "    </tr>\n",
       "    <tr>\n",
       "      <th>grounded_into_double_play</th>\n",
       "      <td>-0.504071</td>\n",
       "    </tr>\n",
       "    <tr>\n",
       "      <th>hit_by_pitch</th>\n",
       "      <td>0.373525</td>\n",
       "    </tr>\n",
       "    <tr>\n",
       "      <th>home_run</th>\n",
       "      <td>1.375724</td>\n",
       "    </tr>\n",
       "    <tr>\n",
       "      <th>intent_walk</th>\n",
       "      <td>&lt;NA&gt;</td>\n",
       "    </tr>\n",
       "    <tr>\n",
       "      <th>other_out</th>\n",
       "      <td>-0.224269</td>\n",
       "    </tr>\n",
       "    <tr>\n",
       "      <th>passed_ball</th>\n",
       "      <td>-0.1034</td>\n",
       "    </tr>\n",
       "    <tr>\n",
       "      <th>pickoff_1b</th>\n",
       "      <td>-0.31448</td>\n",
       "    </tr>\n",
       "    <tr>\n",
       "      <th>pickoff_2b</th>\n",
       "      <td>-0.357861</td>\n",
       "    </tr>\n",
       "    <tr>\n",
       "      <th>pickoff_3b</th>\n",
       "      <td>-0.370667</td>\n",
       "    </tr>\n",
       "    <tr>\n",
       "      <th>pickoff_caught_stealing_2b</th>\n",
       "      <td>-0.29575</td>\n",
       "    </tr>\n",
       "    <tr>\n",
       "      <th>pickoff_caught_stealing_3b</th>\n",
       "      <td>-0.32</td>\n",
       "    </tr>\n",
       "    <tr>\n",
       "      <th>pickoff_caught_stealing_home</th>\n",
       "      <td>-0.328</td>\n",
       "    </tr>\n",
       "    <tr>\n",
       "      <th>pickoff_error_2b</th>\n",
       "      <td>-0.404</td>\n",
       "    </tr>\n",
       "    <tr>\n",
       "      <th>runner_double_play</th>\n",
       "      <td>-0.911</td>\n",
       "    </tr>\n",
       "    <tr>\n",
       "      <th>sac_bunt</th>\n",
       "      <td>-0.082818</td>\n",
       "    </tr>\n",
       "    <tr>\n",
       "      <th>sac_bunt_double_play</th>\n",
       "      <td>-0.0796</td>\n",
       "    </tr>\n",
       "    <tr>\n",
       "      <th>sac_fly</th>\n",
       "      <td>-0.299916</td>\n",
       "    </tr>\n",
       "    <tr>\n",
       "      <th>sac_fly_double_play</th>\n",
       "      <td>-0.356821</td>\n",
       "    </tr>\n",
       "    <tr>\n",
       "      <th>single</th>\n",
       "      <td>0.46522</td>\n",
       "    </tr>\n",
       "    <tr>\n",
       "      <th>stolen_base_2b</th>\n",
       "      <td>-0.2388</td>\n",
       "    </tr>\n",
       "    <tr>\n",
       "      <th>stolen_base_3b</th>\n",
       "      <td>-0.404</td>\n",
       "    </tr>\n",
       "    <tr>\n",
       "      <th>stolen_base_home</th>\n",
       "      <td>-0.367</td>\n",
       "    </tr>\n",
       "    <tr>\n",
       "      <th>strikeout</th>\n",
       "      <td>-0.216668</td>\n",
       "    </tr>\n",
       "    <tr>\n",
       "      <th>strikeout_double_play</th>\n",
       "      <td>-0.395177</td>\n",
       "    </tr>\n",
       "    <tr>\n",
       "      <th>triple</th>\n",
       "      <td>1.055041</td>\n",
       "    </tr>\n",
       "    <tr>\n",
       "      <th>triple_play</th>\n",
       "      <td>-0.615074</td>\n",
       "    </tr>\n",
       "    <tr>\n",
       "      <th>walk</th>\n",
       "      <td>0.218963</td>\n",
       "    </tr>\n",
       "    <tr>\n",
       "      <th>wild_pitch</th>\n",
       "      <td>0.033759</td>\n",
       "    </tr>\n",
       "  </tbody>\n",
       "</table>\n",
       "</div>"
      ],
      "text/plain": [
       "                              Run_Value\n",
       "events                                 \n",
       "catcher_interf                 0.382442\n",
       "caught_stealing_2b            -0.209388\n",
       "caught_stealing_3b            -0.335937\n",
       "caught_stealing_home          -0.290938\n",
       "double                         0.764403\n",
       "double_play                   -0.359216\n",
       "ejection                        -0.1965\n",
       "field_error                    0.448989\n",
       "field_out                     -0.235644\n",
       "fielders_choice                0.686367\n",
       "fielders_choice_out           -0.310614\n",
       "force_out                     -0.428108\n",
       "game_advisory                 -0.214714\n",
       "grounded_into_double_play     -0.504071\n",
       "hit_by_pitch                   0.373525\n",
       "home_run                       1.375724\n",
       "intent_walk                        <NA>\n",
       "other_out                     -0.224269\n",
       "passed_ball                     -0.1034\n",
       "pickoff_1b                     -0.31448\n",
       "pickoff_2b                    -0.357861\n",
       "pickoff_3b                    -0.370667\n",
       "pickoff_caught_stealing_2b     -0.29575\n",
       "pickoff_caught_stealing_3b        -0.32\n",
       "pickoff_caught_stealing_home     -0.328\n",
       "pickoff_error_2b                 -0.404\n",
       "runner_double_play               -0.911\n",
       "sac_bunt                      -0.082818\n",
       "sac_bunt_double_play            -0.0796\n",
       "sac_fly                       -0.299916\n",
       "sac_fly_double_play           -0.356821\n",
       "single                          0.46522\n",
       "stolen_base_2b                  -0.2388\n",
       "stolen_base_3b                   -0.404\n",
       "stolen_base_home                 -0.367\n",
       "strikeout                     -0.216668\n",
       "strikeout_double_play         -0.395177\n",
       "triple                         1.055041\n",
       "triple_play                   -0.615074\n",
       "walk                           0.218963\n",
       "wild_pitch                     0.033759"
      ]
     },
     "execution_count": 8,
     "metadata": {},
     "output_type": "execute_result"
    }
   ],
   "source": [
    "expected_grouped1 = expected.groupby(['events']).agg(\n",
    "    Run_Value = ('delta_run_exp', 'mean'))\n",
    "\n",
    "expected_grouped1"
   ]
  },
  {
   "cell_type": "code",
   "execution_count": 9,
   "metadata": {},
   "outputs": [
    {
     "data": {
      "text/html": [
       "<div>\n",
       "<style scoped>\n",
       "    .dataframe tbody tr th:only-of-type {\n",
       "        vertical-align: middle;\n",
       "    }\n",
       "\n",
       "    .dataframe tbody tr th {\n",
       "        vertical-align: top;\n",
       "    }\n",
       "\n",
       "    .dataframe thead th {\n",
       "        text-align: right;\n",
       "    }\n",
       "</style>\n",
       "<table border=\"1\" class=\"dataframe\">\n",
       "  <thead>\n",
       "    <tr style=\"text-align: right;\">\n",
       "      <th></th>\n",
       "      <th>Run_Value</th>\n",
       "    </tr>\n",
       "    <tr>\n",
       "      <th>bb_type</th>\n",
       "      <th></th>\n",
       "    </tr>\n",
       "  </thead>\n",
       "  <tbody>\n",
       "    <tr>\n",
       "      <th>fly_ball</th>\n",
       "      <td>0.100319</td>\n",
       "    </tr>\n",
       "    <tr>\n",
       "      <th>ground_ball</th>\n",
       "      <td>-0.061018</td>\n",
       "    </tr>\n",
       "    <tr>\n",
       "      <th>line_drive</th>\n",
       "      <td>0.295364</td>\n",
       "    </tr>\n",
       "    <tr>\n",
       "      <th>popup</th>\n",
       "      <td>-0.231931</td>\n",
       "    </tr>\n",
       "  </tbody>\n",
       "</table>\n",
       "</div>"
      ],
      "text/plain": [
       "             Run_Value\n",
       "bb_type               \n",
       "fly_ball      0.100319\n",
       "ground_ball  -0.061018\n",
       "line_drive    0.295364\n",
       "popup        -0.231931"
      ]
     },
     "execution_count": 9,
     "metadata": {},
     "output_type": "execute_result"
    }
   ],
   "source": [
    "expected_grouped2 = expected.groupby(['bb_type']).agg(\n",
    "    Run_Value = ('delta_run_exp', 'mean'))\n",
    "\n",
    "expected_grouped2"
   ]
  },
  {
   "cell_type": "markdown",
   "metadata": {},
   "source": [
    "### The expected run values for each outcome"
   ]
  },
  {
   "cell_type": "code",
   "execution_count": 10,
   "metadata": {},
   "outputs": [
    {
     "name": "stdout",
     "output_type": "stream",
     "text": [
      "-16.38860664066341\n"
     ]
    }
   ],
   "source": [
    "K = -0.216668\n",
    "BB = 0.218963\n",
    "HBP = 0.373525\n",
    "GB = -0.061018\n",
    "LD = 0.295364\n",
    "FB = 0.100319\n",
    "PU = -0.231931\n",
    "\n",
    "print(1/GB)"
   ]
  },
  {
   "cell_type": "markdown",
   "metadata": {},
   "source": [
    "### Loads in the Baseball Reference data from the years 2021 and 2022"
   ]
  },
  {
   "cell_type": "code",
   "execution_count": 11,
   "metadata": {},
   "outputs": [],
   "source": [
    "bref2021 = pitching_stats_bref(\"2021\")\n",
    "bref2022 = pitching_stats_bref(\"2022\")\n",
    "\n",
    "bref2021 = bref2021.rename(columns={'ERA': 'ERA2021'})\n",
    "bref2022 = bref2022.rename(columns={'ERA': 'ERA2022'})\n",
    "\n",
    "bref2021 = bref2021[bref2021['IP'] >= 60]\n",
    "bref2022 = bref2022[bref2022['IP'] >= 60]"
   ]
  },
  {
   "cell_type": "code",
   "execution_count": 12,
   "metadata": {},
   "outputs": [],
   "source": [
    "savant_df2021 = savant_df2021.rename(columns={'player_name': 'Name', 'pitch_type': 'Pitch Type'})"
   ]
  },
  {
   "cell_type": "code",
   "execution_count": 13,
   "metadata": {},
   "outputs": [],
   "source": [
    "def flip_names(name):\n",
    "    first_name, last_name = name.split(\", \")\n",
    "    return f\"{last_name} {first_name}\"\n",
    "\n",
    "savant_df2021['Name'] = savant_df2021[\"Name\"].apply(flip_names)"
   ]
  },
  {
   "cell_type": "markdown",
   "metadata": {},
   "source": [
    "### Groups by a pitchers' name and finds all the stats used to calculate sPRA"
   ]
  },
  {
   "cell_type": "code",
   "execution_count": 14,
   "metadata": {},
   "outputs": [
    {
     "data": {
      "text/html": [
       "<div>\n",
       "<style scoped>\n",
       "    .dataframe tbody tr th:only-of-type {\n",
       "        vertical-align: middle;\n",
       "    }\n",
       "\n",
       "    .dataframe tbody tr th {\n",
       "        vertical-align: top;\n",
       "    }\n",
       "\n",
       "    .dataframe thead th {\n",
       "        text-align: right;\n",
       "    }\n",
       "</style>\n",
       "<table border=\"1\" class=\"dataframe\">\n",
       "  <thead>\n",
       "    <tr style=\"text-align: right;\">\n",
       "      <th></th>\n",
       "      <th>BB</th>\n",
       "      <th>HBP</th>\n",
       "      <th>K</th>\n",
       "      <th>TBF</th>\n",
       "      <th>GB</th>\n",
       "      <th>LD</th>\n",
       "      <th>FB</th>\n",
       "      <th>PU</th>\n",
       "      <th>BIP</th>\n",
       "    </tr>\n",
       "    <tr>\n",
       "      <th>Name</th>\n",
       "      <th></th>\n",
       "      <th></th>\n",
       "      <th></th>\n",
       "      <th></th>\n",
       "      <th></th>\n",
       "      <th></th>\n",
       "      <th></th>\n",
       "      <th></th>\n",
       "      <th></th>\n",
       "    </tr>\n",
       "  </thead>\n",
       "  <tbody>\n",
       "    <tr>\n",
       "      <th>A.J. Minter</th>\n",
       "      <td>22</td>\n",
       "      <td>2</td>\n",
       "      <td>75</td>\n",
       "      <td>263</td>\n",
       "      <td>78</td>\n",
       "      <td>38</td>\n",
       "      <td>39</td>\n",
       "      <td>13</td>\n",
       "      <td>168</td>\n",
       "    </tr>\n",
       "    <tr>\n",
       "      <th>Aaron Bummer</th>\n",
       "      <td>27</td>\n",
       "      <td>4</td>\n",
       "      <td>82</td>\n",
       "      <td>251</td>\n",
       "      <td>109</td>\n",
       "      <td>16</td>\n",
       "      <td>14</td>\n",
       "      <td>3</td>\n",
       "      <td>142</td>\n",
       "    </tr>\n",
       "    <tr>\n",
       "      <th>Aaron Civale</th>\n",
       "      <td>32</td>\n",
       "      <td>4</td>\n",
       "      <td>99</td>\n",
       "      <td>505</td>\n",
       "      <td>173</td>\n",
       "      <td>87</td>\n",
       "      <td>93</td>\n",
       "      <td>26</td>\n",
       "      <td>379</td>\n",
       "    </tr>\n",
       "    <tr>\n",
       "      <th>Aaron Nola</th>\n",
       "      <td>38</td>\n",
       "      <td>9</td>\n",
       "      <td>223</td>\n",
       "      <td>739</td>\n",
       "      <td>199</td>\n",
       "      <td>115</td>\n",
       "      <td>129</td>\n",
       "      <td>35</td>\n",
       "      <td>478</td>\n",
       "    </tr>\n",
       "    <tr>\n",
       "      <th>Adam Cimber</th>\n",
       "      <td>13</td>\n",
       "      <td>7</td>\n",
       "      <td>53</td>\n",
       "      <td>276</td>\n",
       "      <td>113</td>\n",
       "      <td>44</td>\n",
       "      <td>37</td>\n",
       "      <td>20</td>\n",
       "      <td>214</td>\n",
       "    </tr>\n",
       "    <tr>\n",
       "      <th>...</th>\n",
       "      <td>...</td>\n",
       "      <td>...</td>\n",
       "      <td>...</td>\n",
       "      <td>...</td>\n",
       "      <td>...</td>\n",
       "      <td>...</td>\n",
       "      <td>...</td>\n",
       "      <td>...</td>\n",
       "      <td>...</td>\n",
       "    </tr>\n",
       "    <tr>\n",
       "      <th>Zach Pop</th>\n",
       "      <td>22</td>\n",
       "      <td>8</td>\n",
       "      <td>51</td>\n",
       "      <td>239</td>\n",
       "      <td>95</td>\n",
       "      <td>31</td>\n",
       "      <td>29</td>\n",
       "      <td>8</td>\n",
       "      <td>163</td>\n",
       "    </tr>\n",
       "    <tr>\n",
       "      <th>Zach Thompson</th>\n",
       "      <td>27</td>\n",
       "      <td>3</td>\n",
       "      <td>66</td>\n",
       "      <td>311</td>\n",
       "      <td>98</td>\n",
       "      <td>42</td>\n",
       "      <td>66</td>\n",
       "      <td>12</td>\n",
       "      <td>218</td>\n",
       "    </tr>\n",
       "    <tr>\n",
       "      <th>Zack Greinke</th>\n",
       "      <td>39</td>\n",
       "      <td>2</td>\n",
       "      <td>124</td>\n",
       "      <td>715</td>\n",
       "      <td>261</td>\n",
       "      <td>140</td>\n",
       "      <td>131</td>\n",
       "      <td>29</td>\n",
       "      <td>561</td>\n",
       "    </tr>\n",
       "    <tr>\n",
       "      <th>Zack Littell</th>\n",
       "      <td>23</td>\n",
       "      <td>2</td>\n",
       "      <td>67</td>\n",
       "      <td>262</td>\n",
       "      <td>85</td>\n",
       "      <td>31</td>\n",
       "      <td>51</td>\n",
       "      <td>8</td>\n",
       "      <td>175</td>\n",
       "    </tr>\n",
       "    <tr>\n",
       "      <th>Zack Wheeler</th>\n",
       "      <td>46</td>\n",
       "      <td>8</td>\n",
       "      <td>249</td>\n",
       "      <td>847</td>\n",
       "      <td>283</td>\n",
       "      <td>133</td>\n",
       "      <td>90</td>\n",
       "      <td>47</td>\n",
       "      <td>553</td>\n",
       "    </tr>\n",
       "  </tbody>\n",
       "</table>\n",
       "<p>309 rows × 9 columns</p>\n",
       "</div>"
      ],
      "text/plain": [
       "               BB  HBP    K  TBF   GB   LD   FB  PU  BIP\n",
       "Name                                                    \n",
       "A.J. Minter    22    2   75  263   78   38   39  13  168\n",
       "Aaron Bummer   27    4   82  251  109   16   14   3  142\n",
       "Aaron Civale   32    4   99  505  173   87   93  26  379\n",
       "Aaron Nola     38    9  223  739  199  115  129  35  478\n",
       "Adam Cimber    13    7   53  276  113   44   37  20  214\n",
       "...            ..  ...  ...  ...  ...  ...  ...  ..  ...\n",
       "Zach Pop       22    8   51  239   95   31   29   8  163\n",
       "Zach Thompson  27    3   66  311   98   42   66  12  218\n",
       "Zack Greinke   39    2  124  715  261  140  131  29  561\n",
       "Zack Littell   23    2   67  262   85   31   51   8  175\n",
       "Zack Wheeler   46    8  249  847  283  133   90  47  553\n",
       "\n",
       "[309 rows x 9 columns]"
      ]
     },
     "execution_count": 14,
     "metadata": {},
     "output_type": "execute_result"
    }
   ],
   "source": [
    "player_grouped2021 = savant_df2021.groupby(['Name']).agg(\n",
    "    BB = ('events', lambda x: (x == 'walk').sum()),\n",
    "    HBP = ('events', lambda x: (x == 'hit_by_pitch').sum()),\n",
    "    K = ('events', lambda x: (x == 'strikeout').sum()),\n",
    "    TBF = ('events', lambda x: (x.isin(['other_out', 'single', 'double', 'triple', 'home_run', 'walk', 'strikeout', 'field_out', 'hit_by_pitch', 'sac_fly', 'sac_fly_double_play', 'sac_bunt', 'field_error', 'fielders_choice', 'double_play', 'fielders_choice_out', 'sac_fly_double_play', 'strikeout_double_play', 'catcher_interf', 'triple_play', 'grounded_into_double_play'])).sum()),\n",
    "    GB = ('bb_type', lambda x: (x == 'ground_ball').sum()),\n",
    "    LD = ('bb_type', lambda x: (x == 'line_drive').sum()),\n",
    "    FB = ('bb_type', lambda x: (x == 'fly_ball').sum()),\n",
    "    PU = ('bb_type', lambda x: (x == 'popup').sum()),\n",
    "    BIP = ('bb_type', lambda x: (x.isin(['ground_ball', 'line_drive', 'fly_ball', 'popup'])).sum()))\n",
    "\n",
    "player_grouped2021 = player_grouped2021[player_grouped2021['TBF'] >= 230]\n",
    "player_grouped2021"
   ]
  },
  {
   "cell_type": "markdown",
   "metadata": {},
   "source": [
    "### The calculation and table being outputted of sPRA of the year 2021"
   ]
  },
  {
   "cell_type": "code",
   "execution_count": 15,
   "metadata": {},
   "outputs": [
    {
     "data": {
      "text/html": [
       "<div>\n",
       "<style scoped>\n",
       "    .dataframe tbody tr th:only-of-type {\n",
       "        vertical-align: middle;\n",
       "    }\n",
       "\n",
       "    .dataframe tbody tr th {\n",
       "        vertical-align: top;\n",
       "    }\n",
       "\n",
       "    .dataframe thead th {\n",
       "        text-align: right;\n",
       "    }\n",
       "</style>\n",
       "<table border=\"1\" class=\"dataframe\">\n",
       "  <thead>\n",
       "    <tr style=\"text-align: right;\">\n",
       "      <th></th>\n",
       "      <th>Name</th>\n",
       "      <th>sPRA2021</th>\n",
       "    </tr>\n",
       "  </thead>\n",
       "  <tbody>\n",
       "    <tr>\n",
       "      <th>0</th>\n",
       "      <td>Jacob deGrom</td>\n",
       "      <td>3.05</td>\n",
       "    </tr>\n",
       "    <tr>\n",
       "      <th>1</th>\n",
       "      <td>Liam Hendriks</td>\n",
       "      <td>3.24</td>\n",
       "    </tr>\n",
       "    <tr>\n",
       "      <th>2</th>\n",
       "      <td>Josh Hader</td>\n",
       "      <td>3.31</td>\n",
       "    </tr>\n",
       "    <tr>\n",
       "      <th>3</th>\n",
       "      <td>Aaron Bummer</td>\n",
       "      <td>3.41</td>\n",
       "    </tr>\n",
       "    <tr>\n",
       "      <th>4</th>\n",
       "      <td>Emmanuel Clase</td>\n",
       "      <td>3.48</td>\n",
       "    </tr>\n",
       "    <tr>\n",
       "      <th>...</th>\n",
       "      <td>...</td>\n",
       "      <td>...</td>\n",
       "    </tr>\n",
       "    <tr>\n",
       "      <th>304</th>\n",
       "      <td>Mitch Keller</td>\n",
       "      <td>4.63</td>\n",
       "    </tr>\n",
       "    <tr>\n",
       "      <th>305</th>\n",
       "      <td>Jaime Barria</td>\n",
       "      <td>4.64</td>\n",
       "    </tr>\n",
       "    <tr>\n",
       "      <th>306</th>\n",
       "      <td>Riley Smith</td>\n",
       "      <td>4.65</td>\n",
       "    </tr>\n",
       "    <tr>\n",
       "      <th>307</th>\n",
       "      <td>Chi Chi González</td>\n",
       "      <td>4.72</td>\n",
       "    </tr>\n",
       "    <tr>\n",
       "      <th>308</th>\n",
       "      <td>Spenser Watkins</td>\n",
       "      <td>4.81</td>\n",
       "    </tr>\n",
       "  </tbody>\n",
       "</table>\n",
       "<p>309 rows × 2 columns</p>\n",
       "</div>"
      ],
      "text/plain": [
       "                 Name  sPRA2021\n",
       "0        Jacob deGrom      3.05\n",
       "1       Liam Hendriks      3.24\n",
       "2          Josh Hader      3.31\n",
       "3        Aaron Bummer      3.41\n",
       "4      Emmanuel Clase      3.48\n",
       "..                ...       ...\n",
       "304      Mitch Keller      4.63\n",
       "305      Jaime Barria      4.64\n",
       "306       Riley Smith      4.65\n",
       "307  Chi Chi González      4.72\n",
       "308   Spenser Watkins      4.81\n",
       "\n",
       "[309 rows x 2 columns]"
      ]
     },
     "execution_count": 15,
     "metadata": {},
     "output_type": "execute_result"
    }
   ],
   "source": [
    "player_grouped2021[\"sPRA2021\"] = round(\n",
    "    (0.85 * ((BB * 16.38860664066341 * player_grouped2021[\"BB\"]) + (HBP * 16.38860664066341 * player_grouped2021[\"HBP\"]) + (K * 16.38860664066341 * player_grouped2021[\"K\"]) + \n",
    "    (FB * 16.38860664066341 * player_grouped2021[\"FB\"]) + (LD * 16.38860664066341 * player_grouped2021[\"LD\"]) + (PU * 16.38860664066341 * player_grouped2021[\"PU\"]) + (GB * 16.38860664066341 * player_grouped2021[\"GB\"]))\n",
    "    / player_grouped2021[\"TBF\"]) , 2) + 4.05\n",
    "    \n",
    "player_grouped2021 = player_grouped2021.sort_values(by = \"sPRA2021\")\n",
    "player_grouped2021 = player_grouped2021.reset_index()\n",
    "player_grouped2021 = player_grouped2021[[\"Name\", \"sPRA2021\"]]\n",
    "player_grouped2021"
   ]
  },
  {
   "cell_type": "code",
   "execution_count": 16,
   "metadata": {},
   "outputs": [
    {
     "name": "stdout",
     "output_type": "stream",
     "text": [
      "League Mean PRA is: 4.11\n",
      "League Median PRA is: 4.13\n"
     ]
    }
   ],
   "source": [
    "print(f\"League Mean PRA is: {round(player_grouped2021['sPRA2021'].mean(), 3)}\")\n",
    "print(f\"League Median PRA is: {round(player_grouped2021['sPRA2021'].median(), 3)}\")"
   ]
  },
  {
   "cell_type": "markdown",
   "metadata": {},
   "source": [
    "### Merges the 2022 Baseball Reference and the sPRA tables together so Name, 2021 sPRA, and 2022 ERA can be displayed\n",
    "* Drops Dallas Keuchel because his 2022 ERA is in the 9s and an outlier"
   ]
  },
  {
   "cell_type": "code",
   "execution_count": 17,
   "metadata": {},
   "outputs": [
    {
     "data": {
      "text/html": [
       "<div>\n",
       "<style scoped>\n",
       "    .dataframe tbody tr th:only-of-type {\n",
       "        vertical-align: middle;\n",
       "    }\n",
       "\n",
       "    .dataframe tbody tr th {\n",
       "        vertical-align: top;\n",
       "    }\n",
       "\n",
       "    .dataframe thead th {\n",
       "        text-align: right;\n",
       "    }\n",
       "</style>\n",
       "<table border=\"1\" class=\"dataframe\">\n",
       "  <thead>\n",
       "    <tr style=\"text-align: right;\">\n",
       "      <th></th>\n",
       "      <th>Name</th>\n",
       "      <th>sPRA2021</th>\n",
       "      <th>ERA2022</th>\n",
       "      <th>sPRA+</th>\n",
       "    </tr>\n",
       "  </thead>\n",
       "  <tbody>\n",
       "    <tr>\n",
       "      <th>63</th>\n",
       "      <td>Jacob deGrom</td>\n",
       "      <td>3.05</td>\n",
       "      <td>3.08</td>\n",
       "      <td>134.35</td>\n",
       "    </tr>\n",
       "    <tr>\n",
       "      <th>48</th>\n",
       "      <td>Emmanuel Clase</td>\n",
       "      <td>3.48</td>\n",
       "      <td>1.36</td>\n",
       "      <td>117.75</td>\n",
       "    </tr>\n",
       "    <tr>\n",
       "      <th>208</th>\n",
       "      <td>Jordan Romano</td>\n",
       "      <td>3.49</td>\n",
       "      <td>2.11</td>\n",
       "      <td>117.41</td>\n",
       "    </tr>\n",
       "    <tr>\n",
       "      <th>38</th>\n",
       "      <td>Corbin Burnes</td>\n",
       "      <td>3.52</td>\n",
       "      <td>2.94</td>\n",
       "      <td>116.41</td>\n",
       "    </tr>\n",
       "    <tr>\n",
       "      <th>137</th>\n",
       "      <td>Michael Kopech</td>\n",
       "      <td>3.54</td>\n",
       "      <td>3.54</td>\n",
       "      <td>115.75</td>\n",
       "    </tr>\n",
       "    <tr>\n",
       "      <th>...</th>\n",
       "      <td>...</td>\n",
       "      <td>...</td>\n",
       "      <td>...</td>\n",
       "      <td>...</td>\n",
       "    </tr>\n",
       "    <tr>\n",
       "      <th>61</th>\n",
       "      <td>Zach Davies</td>\n",
       "      <td>4.55</td>\n",
       "      <td>4.09</td>\n",
       "      <td>90.06</td>\n",
       "    </tr>\n",
       "    <tr>\n",
       "      <th>265</th>\n",
       "      <td>Bryse Wilson</td>\n",
       "      <td>4.62</td>\n",
       "      <td>5.52</td>\n",
       "      <td>88.69</td>\n",
       "    </tr>\n",
       "    <tr>\n",
       "      <th>129</th>\n",
       "      <td>Mitch Keller</td>\n",
       "      <td>4.63</td>\n",
       "      <td>3.91</td>\n",
       "      <td>88.50</td>\n",
       "    </tr>\n",
       "    <tr>\n",
       "      <th>17</th>\n",
       "      <td>Jaime Barria</td>\n",
       "      <td>4.64</td>\n",
       "      <td>2.61</td>\n",
       "      <td>88.31</td>\n",
       "    </tr>\n",
       "    <tr>\n",
       "      <th>256</th>\n",
       "      <td>Spenser Watkins</td>\n",
       "      <td>4.81</td>\n",
       "      <td>4.70</td>\n",
       "      <td>85.19</td>\n",
       "    </tr>\n",
       "  </tbody>\n",
       "</table>\n",
       "<p>159 rows × 4 columns</p>\n",
       "</div>"
      ],
      "text/plain": [
       "                Name  sPRA2021  ERA2022   sPRA+\n",
       "63      Jacob deGrom      3.05     3.08  134.35\n",
       "48    Emmanuel Clase      3.48     1.36  117.75\n",
       "208    Jordan Romano      3.49     2.11  117.41\n",
       "38     Corbin Burnes      3.52     2.94  116.41\n",
       "137   Michael Kopech      3.54     3.54  115.75\n",
       "..               ...       ...      ...     ...\n",
       "61       Zach Davies      4.55     4.09   90.06\n",
       "265     Bryse Wilson      4.62     5.52   88.69\n",
       "129     Mitch Keller      4.63     3.91   88.50\n",
       "17      Jaime Barria      4.64     2.61   88.31\n",
       "256  Spenser Watkins      4.81     4.70   85.19\n",
       "\n",
       "[159 rows x 4 columns]"
      ]
     },
     "execution_count": 17,
     "metadata": {},
     "output_type": "execute_result"
    }
   ],
   "source": [
    "final = pd.merge(bref2022, player_grouped2021, on='Name', how='left')\n",
    "final.loc[:, \"sPRA+\"] =  round((np.mean(final[\"sPRA2021\"]) / final[\"sPRA2021\"]) * 100, 2)\n",
    "final = final[[\"Name\", \"sPRA2021\", \"ERA2022\", \"sPRA+\"]]\n",
    "final = final.dropna()\n",
    "final = final[final[\"Name\"] != \"Dallas Keuchel\"]\n",
    "final = final.sort_values(by = \"sPRA2021\")\n",
    "final"
   ]
  },
  {
   "cell_type": "markdown",
   "metadata": {},
   "source": [
    "### Displays the 2021 sPRA against 2022 ERA on a scatter plot with a line of best fit going through the graph\n",
    "### Also calculates and prints the R-squared value"
   ]
  },
  {
   "cell_type": "code",
   "execution_count": 18,
   "metadata": {},
   "outputs": [
    {
     "name": "stdout",
     "output_type": "stream",
     "text": [
      "0.1494763721275556\n"
     ]
    },
    {
     "data": {
      "image/png": "[encoded data removed]",
      "text/plain": [
       "<Figure size 640x480 with 1 Axes>"
      ]
     },
     "metadata": {},
     "output_type": "display_data"
    }
   ],
   "source": [
    "x = final[\"sPRA2021\"].values.reshape(-1, 1)\n",
    "y = final[\"ERA2022\"].values.reshape(-1, 1)\n",
    "\n",
    "model = LinearRegression().fit(x, y)\n",
    "pred = model.predict(x)\n",
    "\n",
    "print((np.corrcoef(final[\"sPRA2021\"], final[\"ERA2022\"])[0, 1]) ** 2)\n",
    "\n",
    "plt.scatter(final[\"sPRA2021\"], final[\"ERA2022\"], color = \"red\")\n",
    "plt.plot(x, pred, linestyle = \"--\", color = 'black',  label='Regression Line')\n",
    "\n",
    "plt.xlabel(\"sPRA 2021\")\n",
    "plt.ylabel(\"ERA 2022\")\n",
    "plt.title(\"sPRA 2021 vs ERA 2022\")\n",
    "plt.text(4.88, 1.1, \"R-squared = 0.149\", fontsize = 12, color = 'black', va = 'bottom', ha = 'right')\n",
    "\n",
    "plt.savefig(\"sPRA.png\")\n",
    "plt.show()\n",
    "\n",
    "final[\"Residuals\"] = y - pred"
   ]
  },
  {
   "cell_type": "markdown",
   "metadata": {},
   "source": [
    "### Calculates and prints out the Root Mean Squared Error (RMSE)"
   ]
  },
  {
   "cell_type": "code",
   "execution_count": 19,
   "metadata": {},
   "outputs": [
    {
     "name": "stdout",
     "output_type": "stream",
     "text": [
      "The RMSE is: 0.934378\n"
     ]
    }
   ],
   "source": [
    "RMSE = np.sqrt(np.mean(final['Residuals']**2))\n",
    "print(f\"The RMSE is: {round((RMSE), 6)}\")"
   ]
  }
 ],
 "metadata": {
  "kernelspec": {
   "display_name": "Python 3",
   "language": "python",
   "name": "python3"
  },
  "language_info": {
   "codemirror_mode": {
    "name": "ipython",
    "version": 3
   },
   "file_extension": ".py",
   "mimetype": "text/x-python",
   "name": "python",
   "nbconvert_exporter": "python",
   "pygments_lexer": "ipython3",
   "version": "3.9.6"
  },
  "orig_nbformat": 4
 },
 "nbformat": 4,
 "nbformat_minor": 2
}
